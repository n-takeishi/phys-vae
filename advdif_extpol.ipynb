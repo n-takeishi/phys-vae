{
 "cells": [
  {
   "cell_type": "code",
   "execution_count": null,
   "id": "timely-arcade",
   "metadata": {},
   "outputs": [],
   "source": [
    "import json\n",
    "import matplotlib.pyplot as plt\n",
    "import numpy as np\n",
    "import torch\n",
    "from physvae import utils\n",
    "from physvae.advdif.model import VAE"
   ]
  },
  {
   "cell_type": "code",
   "execution_count": null,
   "id": "electronic-stylus",
   "metadata": {},
   "outputs": [],
   "source": [
    "# setting\n",
    "datadir = './data/advdif'\n",
    "dataname = 'test'\n",
    "modeldir = './out_advdif/'"
   ]
  },
  {
   "cell_type": "code",
   "execution_count": null,
   "id": "challenging-authentication",
   "metadata": {},
   "outputs": [],
   "source": [
    "# load data\n",
    "data_test = np.load('{}/data_{}.npy'.format(datadir, dataname))"
   ]
  },
  {
   "cell_type": "code",
   "execution_count": null,
   "id": "excess-dietary",
   "metadata": {},
   "outputs": [],
   "source": [
    "device = \"cpu\" #torch.device(\"cuda\" if torch.cuda.is_available() else \"cpu\")\n",
    "\n",
    "# set and load model\n",
    "with open('{}/args.json'.format(modeldir), 'r') as f:\n",
    "    args_tr_dict = json.load(f)\n",
    "model = VAE(args_tr_dict).to(device)\n",
    "model.load_state_dict(torch.load('{}/model.pt'.format(modeldir), map_location=device))\n",
    "model.eval()\n",
    "dim_x = args_tr_dict['dim_x']\n",
    "dim_t_tr = args_tr_dict['dim_t']\n",
    "dx = args_tr_dict['dx']\n",
    "dt = args_tr_dict['dt']\n",
    "print('model loaded')"
   ]
  },
  {
   "cell_type": "code",
   "execution_count": null,
   "id": "portable-disaster",
   "metadata": {},
   "outputs": [],
   "source": [
    "# infer latent variables using short data\n",
    "data_tensor = torch.Tensor(data_test).to(device).view(-1,dim_x,dim_t_tr)\n",
    "\n",
    "with torch.no_grad():\n",
    "    # aux only\n",
    "    z_phy_stat, z_aux1_stat, z_aux2_stat, unmixed = model.encode(data_tensor)\n",
    "    z_phy, z_aux1, z_aux2 = model.draw(z_phy_stat, z_aux1_stat, z_aux2_stat, hard_z=False)"
   ]
  },
  {
   "cell_type": "code",
   "execution_count": null,
   "id": "coated-judge",
   "metadata": {},
   "outputs": [],
   "source": [
    "# change model's integrator setting\n",
    "model.len_intg = (1000 - 1) * model.intg_lev + 1\n",
    "model.t_intg = torch.linspace(0.0, model.dt_intg*(model.len_intg-1), model.len_intg)\n",
    "\n",
    "# reconstruction with extrapolation\n",
    "data_tensor = torch.Tensor(data_test).to(device).view(-1,dim_x,dim_t_te)\n",
    "with torch.no_grad():\n",
    "    init_y = data_tensor[:,:,0].clone()\n",
    "    x_full, _, _, _, _ = model.decode(z_phy, z_aux1, z_aux2, init_y, full=True)"
   ]
  },
  {
   "cell_type": "code",
   "execution_count": null,
   "id": "committed-amsterdam",
   "metadata": {},
   "outputs": [],
   "source": [
    "# plot\n",
    "idx = 78\n",
    "showlen = 600\n",
    "\n",
    "vmax = data_test[idx].max()\n",
    "kwargs = {'vmin':0.0, 'vmax':vmax, 'aspect':3.5, 'cmap':'magma', 'interpolation':'none'}\n",
    "\n",
    "plt.figure()\n",
    "plt.imshow(x_full[idx,:,0:showlen].cpu(), **kwargs)\n",
    "plt.show()"
   ]
  }
 ],
 "metadata": {
  "kernelspec": {
   "display_name": "Python 3",
   "language": "python",
   "name": "python3"
  },
  "language_info": {
   "codemirror_mode": {
    "name": "ipython",
    "version": 3
   },
   "file_extension": ".py",
   "mimetype": "text/x-python",
   "name": "python",
   "nbconvert_exporter": "python",
   "pygments_lexer": "ipython3",
   "version": "3.8.3"
  }
 },
 "nbformat": 4,
 "nbformat_minor": 5
}
