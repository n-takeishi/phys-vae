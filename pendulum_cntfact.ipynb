{
 "cells": [
  {
   "cell_type": "code",
   "execution_count": null,
   "id": "painted-standard",
   "metadata": {},
   "outputs": [],
   "source": [
    "import json\n",
    "import matplotlib.pyplot as plt\n",
    "import numpy as np\n",
    "import torch\n",
    "from physvae import utils\n",
    "from physvae.pendulum.model import VAE"
   ]
  },
  {
   "cell_type": "code",
   "execution_count": null,
   "id": "brief-sixth",
   "metadata": {},
   "outputs": [],
   "source": [
    "# setting\n",
    "datadir = './data/pendulum'\n",
    "dataname = 'test'\n",
    "modeldir = './out_pendulum/'"
   ]
  },
  {
   "cell_type": "code",
   "execution_count": null,
   "id": "placed-syndication",
   "metadata": {},
   "outputs": [],
   "source": [
    "# load data\n",
    "data_test = np.loadtxt('{}/data_{}.txt'.format(datadir, dataname))\n",
    "\n",
    "# load ture parameters\n",
    "params_test = np.loadtxt('{}/true_params_{}.txt'.format(datadir, dataname))"
   ]
  },
  {
   "cell_type": "code",
   "execution_count": null,
   "id": "leading-librarian",
   "metadata": {},
   "outputs": [],
   "source": [
    "device = \"cpu\" #torch.device(\"cuda\" if torch.cuda.is_available() else \"cpu\")\n",
    "\n",
    "# set and load model (aux only)\n",
    "with open('{}/args.json'.format(modeldir), 'r') as f:\n",
    "    args_tr_dict = json.load(f)\n",
    "model = VAE(args_tr_dict).to(device)\n",
    "model.load_state_dict(torch.load('{}/model.pt'.format(modeldir), map_location=device))\n",
    "model.eval()\n",
    "\n",
    "dim_t_tr = args_tr_dict['dim_t']\n",
    "dt = args_tr_dict['dt']"
   ]
  },
  {
   "cell_type": "code",
   "execution_count": null,
   "id": "comparative-mouth",
   "metadata": {},
   "outputs": [],
   "source": [
    "# infer latent variables using short data\n",
    "data_tensor = torch.Tensor(data_test).to(device)\n",
    "init_y = data_tensor[:,0].clone().view(-1,1)\n",
    "\n",
    "with torch.no_grad():\n",
    "    # aux only\n",
    "    z_phy_stat, z_aux1_stat, z_aux2_stat, unmixed = model.encode(data_tensor)\n",
    "    z_phy, z_aux1, z_aux2 = model.draw(z_phy_stat, z_aux1_stat, z_aux2_stat, hard_z=False)"
   ]
  },
  {
   "cell_type": "code",
   "execution_count": null,
   "id": "thirty-comparison",
   "metadata": {},
   "outputs": [],
   "source": [
    "# generate counterfactual from learned model\n",
    "\n",
    "# NOTE: training data's omega range is only [0.785, 3.14]\n",
    "coeffs = [0.2, 0.4, 0.6, 0.8, 1.0, 1.5, 2.0, 2.5, 3.0] # coefficients that multiply original value of omega\n",
    "cf_z_phy = [ [] for i in range(len(coeffs)) ]\n",
    "for i in range(len(coeffs)):\n",
    "    cf_z_phy[i] = z_phy*coeffs[i]\n",
    "\n",
    "with torch.no_grad():\n",
    "    cf_x = [ [] for i in range(len(coeffs)) ]\n",
    "    for i in range(len(coeffs)):\n",
    "        cf_x[i], _ = model.decode(cf_z_phy[i], z_aux1, z_aux2, init_y)\n",
    "        cf_x[i] = cf_x[i].cpu().numpy()"
   ]
  },
  {
   "cell_type": "code",
   "execution_count": null,
   "id": "naval-occasion",
   "metadata": {},
   "outputs": [],
   "source": [
    "# generate true signals\n",
    "import sys; sys.path.append('./data/pendulum/')\n",
    "from generate import generate_traj\n",
    "\n",
    "n = 30 #params_test.shape[0]\n",
    "dim_t = data_tensor.shape[1]\n",
    "cf_x_true = [ np.empty((n, dim_t)) for i in range(len(coeffs)) ]\n",
    "for i in range(n):\n",
    "    init_cond = [params_test[i,0], 0.0]\n",
    "    gamma = params_test[i,2]\n",
    "    A = params_test[i,3]\n",
    "    f = params_test[i,4]\n",
    "    for j in range(len(coeffs)):\n",
    "        t, tmp = generate_traj(init_cond, cf_z_phy[j][i], gamma, A, f, dt, dim_t)\n",
    "        cf_x_true[j][i] = tmp[:,0]"
   ]
  },
  {
   "cell_type": "code",
   "execution_count": null,
   "id": "after-missile",
   "metadata": {},
   "outputs": [],
   "source": [
    "# show\n",
    "idx = 29\n",
    "plt.figure()\n",
    "for i in range(len(coeffs)):\n",
    "    print(cf_z_phy[i][idx].item())\n",
    "    plt.subplot(3,3,i+1)\n",
    "    plt.plot(cf_x[i][idx], 'r')\n",
    "    plt.plot(cf_x_true[i][idx], 'k')\n",
    "    plt.ylim([-2.0, 2.0])\n",
    "plt.show()"
   ]
  }
 ],
 "metadata": {
  "kernelspec": {
   "display_name": "Python 3",
   "language": "python",
   "name": "python3"
  },
  "language_info": {
   "codemirror_mode": {
    "name": "ipython",
    "version": 3
   },
   "file_extension": ".py",
   "mimetype": "text/x-python",
   "name": "python",
   "nbconvert_exporter": "python",
   "pygments_lexer": "ipython3",
   "version": "3.8.3"
  }
 },
 "nbformat": 4,
 "nbformat_minor": 5
}
